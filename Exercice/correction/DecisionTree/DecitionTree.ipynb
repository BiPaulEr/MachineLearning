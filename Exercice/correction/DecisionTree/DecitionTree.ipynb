{
 "cells": [
  {
   "cell_type": "code",
   "execution_count": 3,
   "id": "b239a831-9e75-44fa-87a9-e2896c95928c",
   "metadata": {},
   "outputs": [],
   "source": [
    "#Demonstration\n",
    "import math\n",
    "    \n",
    "def decoratorlog(f):\n",
    "    def wrapper(*args):\n",
    "        result =  f(*args)\n",
    "        print(f\"{f.__name__} de {args} est: {result}\") \n",
    "        return result\n",
    "    return wrapper"
   ]
  },
  {
   "cell_type": "code",
   "execution_count": 24,
   "id": "3db1d929-1d6e-4da6-864a-e1344e0fbfe3",
   "metadata": {},
   "outputs": [
    {
     "name": "stdout",
     "output_type": "stream",
     "text": [
      "Dataset: [[0, 0, 'no buy'], [1, 1, 'buy'], [0, 1, 'buy'], [1, 1, 'buy'], [0, 0, 'no buy'], [1, 1, 'buy'], [1, 0, 'buy'], [0, 0, 'no buy'], [0, 0, 'no buy'], [1, 1, 'buy']]\n",
      "Labels: ['Age', 'Income']\n"
     ]
    }
   ],
   "source": [
    "def createDataSet(*args):\n",
    "    # A People with Age 0 -> young 1 -> old, Income low -> 0 high -> 1\n",
    "    dataSet = [[0, 0, 'no buy'],  # young, low income\n",
    "               [1, 1, 'buy'],    # old, high income\n",
    "               [0, 1, 'buy'],    # young, high income\n",
    "               [1, 1, 'buy'],    # old, high income\n",
    "               [0, 0, 'no buy'], # young, low income\n",
    "               [1, 1, 'buy'],    # old, high income\n",
    "               [1, 0, 'buy'], # old, low income\n",
    "               [0, 0, 'no buy'], # young, low income\n",
    "               [0, 0, 'no buy'], # young, low income\n",
    "               [1, 1, 'buy']]    # old, high income\n",
    "    \n",
    "    # Labels represent the feature names for Age and Income\n",
    "    labels = ['Age', 'Income']\n",
    "    \n",
    "    return dataSet, labels\n",
    "\n",
    "dataSet, labels = createDataSet()\n",
    "\n",
    "# Output the new dataset\n",
    "print(\"Dataset:\", dataSet)\n",
    "print(\"Labels:\", labels)\n"
   ]
  },
  {
   "cell_type": "code",
   "execution_count": 25,
   "id": "d65c8fe7-8efd-4696-a5ac-bf28592f0e46",
   "metadata": {},
   "outputs": [
    {
     "data": {
      "text/plain": [
       "0.9709505944546686"
      ]
     },
     "execution_count": 25,
     "metadata": {},
     "output_type": "execute_result"
    }
   ],
   "source": [
    "from math import log\n",
    "#@decoratorlog\n",
    "def calcShannonEnt(dataSet):\n",
    "     numEntries = len(dataSet)\n",
    "     labelCounts = {}\n",
    "     for featVec in dataSet: \n",
    "         currentLabel = featVec[-1] \n",
    "         if currentLabel not in labelCounts.keys():\n",
    "             labelCounts[currentLabel] = 0 \n",
    "         labelCounts[currentLabel] += 1 \n",
    "     shannonEnt = 0.0\n",
    "     for key in labelCounts:\n",
    "         prob = float(labelCounts[key])/numEntries\n",
    "         shannonEnt -= prob * log(prob,2) \n",
    "     return shannonEnt\n",
    "    \n",
    "calcShannonEnt(dataSet)"
   ]
  },
  {
   "cell_type": "code",
   "execution_count": 26,
   "id": "1a400722-3894-495e-8f90-94f8d5b3574e",
   "metadata": {},
   "outputs": [
    {
     "data": {
      "text/plain": [
       "[[1, 'buy'], [0, 'buy'], [1, 'buy'], [1, 'buy'], [1, 'buy']]"
      ]
     },
     "execution_count": 26,
     "metadata": {},
     "output_type": "execute_result"
    }
   ],
   "source": [
    "#Splitting Dataset\n",
    "#@decoratorlog\n",
    "def splitDataSet(dataSet, axis, value):\n",
    "    retDataset =[]\n",
    "    for featVec in dataSet:\n",
    "        if featVec[axis] == value:\n",
    "            reducedFeatVec = featVec[:axis]\n",
    "            reducedFeatVec.extend(featVec[axis+1:])\n",
    "            retDataset.append(reducedFeatVec)\n",
    "    return retDataset\n",
    "dataSet, labels = createDataSet()\n",
    "splitDataSet(dataSet, 0, 1)\n",
    "splitDataSet(dataSet, 0, 0)\n",
    "splitDataSet(dataSet, 1, 0)\n",
    "splitDataSet(dataSet, 1, 1)"
   ]
  },
  {
   "cell_type": "code",
   "execution_count": 27,
   "id": "bb8ad6fd-fb6b-4895-861a-6fd3102041cf",
   "metadata": {},
   "outputs": [
    {
     "name": "stdout",
     "output_type": "stream",
     "text": [
      "[0, 0, 'no buy']\n",
      "['Age', 'Income']\n",
      "chooseBestFeatureToSplit de ([[0, 0, 'no buy'], [1, 1, 'buy'], [0, 1, 'buy'], [1, 1, 'buy'], [0, 0, 'no buy'], [1, 1, 'buy'], [1, 0, 'buy'], [0, 0, 'no buy'], [0, 0, 'no buy'], [1, 1, 'buy']],) est: 0\n"
     ]
    },
    {
     "data": {
      "text/plain": [
       "0"
      ]
     },
     "execution_count": 27,
     "metadata": {},
     "output_type": "execute_result"
    }
   ],
   "source": [
    "dataSet, labels = createDataSet()\n",
    "print(dataSet[0])\n",
    "print(labels)\n",
    "@decoratorlog\n",
    "def chooseBestFeatureToSplit(dataSet):\n",
    "    numFeatures = len(dataSet[0]) - 1\n",
    "    baseEntropy = calcShannonEnt(dataSet)\n",
    "    bestInfoGain = 0.0\n",
    "    bestFeature = -1\n",
    "    for i in range(numFeatures):\n",
    "        featList = [example[i] for example in dataSet]\n",
    "        uniqueVals = set(featList) \n",
    "        newEntropy = 0.0\n",
    "        for value in uniqueVals:\n",
    "            subDataset = splitDataSet(dataSet, i, value)\n",
    "            prob = len(subDataset) / float(len(dataSet))\n",
    "            newEntropy += prob * calcShannonEnt(subDataset)\n",
    "        infoGain = baseEntropy - newEntropy \n",
    "        if (infoGain > bestInfoGain):\n",
    "            bestInfoGain = infoGain \n",
    "            bestFeature = i \n",
    "    return bestFeature \n",
    "\n",
    "chooseBestFeatureToSplit(dataSet)   \n",
    "    \n",
    "    "
   ]
  },
  {
   "cell_type": "code",
   "execution_count": 28,
   "id": "f43a96d9-ce00-4b38-9f50-5ccccbfcbd9c",
   "metadata": {},
   "outputs": [
    {
     "data": {
      "text/plain": [
       "'no'"
      ]
     },
     "execution_count": 28,
     "metadata": {},
     "output_type": "execute_result"
    }
   ],
   "source": [
    "import operator\n",
    "#@decoratorlog\n",
    "def majorityCnt(classList):\n",
    "    classCount={}\n",
    "    for vote in classList:\n",
    "        if vote not in classCount.keys():\n",
    "            classCount[vote] = 0\n",
    "        classCount[vote] += 1\n",
    "    sortedClassCount = sorted(classCount.items(), key=operator.itemgetter(1), reverse=True)\n",
    "    return sortedClassCount[0][0]\n",
    "    \n",
    "majorityCnt(['yes', 'yes', 'no'])\n",
    "majorityCnt(['yes', 'yes', 'no','no','maybe'])\n",
    "majorityCnt(['yes', 'yes', 'no','no','no'])"
   ]
  },
  {
   "cell_type": "code",
   "execution_count": 29,
   "id": "e132cba3-39bf-41a7-a5b0-5609b34c48d9",
   "metadata": {},
   "outputs": [
    {
     "name": "stdout",
     "output_type": "stream",
     "text": [
      "chooseBestFeatureToSplit de ([[0, 0, 'no buy'], [1, 1, 'buy'], [0, 1, 'buy'], [1, 1, 'buy'], [0, 0, 'no buy'], [1, 1, 'buy'], [1, 0, 'buy'], [0, 0, 'no buy'], [0, 0, 'no buy'], [1, 1, 'buy']],) est: 0\n",
      "chooseBestFeatureToSplit de ([[0, 'no buy'], [1, 'buy'], [0, 'no buy'], [0, 'no buy'], [0, 'no buy']],) est: 0\n"
     ]
    },
    {
     "data": {
      "text/plain": [
       "{'Age': {0: {'Income': {0: 'no buy', 1: 'buy'}}, 1: 'buy'}}"
      ]
     },
     "execution_count": 29,
     "metadata": {},
     "output_type": "execute_result"
    }
   ],
   "source": [
    "#@decoratorlog\n",
    "def createTree(dataSet, labels):\n",
    "     classList = [example[-1] for example in dataSet]\n",
    "     if classList.count(classList[0]) == len(classList):\n",
    "         return classList[0] \n",
    "     if len(dataSet[0]) == 1: \n",
    "         return majorityCnt(classList) \n",
    "     bestFeat = chooseBestFeatureToSplit(dataSet)\n",
    "     bestFeatLabel = labels[bestFeat]\n",
    "     myTree = {bestFeatLabel:{}}\n",
    "     del(labels[bestFeat]) \n",
    "     featValues = [example[bestFeat] for example in dataSet] \n",
    "     uniqueVals = set(featValues) \n",
    "     for value in uniqueVals:\n",
    "         subLabels = labels[:] \n",
    "         myTree[bestFeatLabel][value] = createTree(splitDataSet(dataSet, bestFeat, value),subLabels)\n",
    "     return myTree\n",
    "dataSet, labels = createDataSet()\n",
    "createTree(dataSet, labels)\n"
   ]
  },
  {
   "cell_type": "code",
   "execution_count": 31,
   "id": "fac5812e-2bab-44c9-9595-b92ad9949101",
   "metadata": {},
   "outputs": [
    {
     "name": "stdout",
     "output_type": "stream",
     "text": [
      "chooseBestFeatureToSplit de ([[0, 0, 'no buy'], [1, 1, 'buy'], [0, 1, 'buy'], [1, 1, 'buy'], [0, 0, 'no buy'], [1, 1, 'buy'], [1, 0, 'buy'], [0, 0, 'no buy'], [0, 0, 'no buy'], [1, 1, 'buy']],) est: 0\n",
      "chooseBestFeatureToSplit de ([[0, 'no buy'], [1, 'buy'], [0, 'no buy'], [0, 'no buy'], [0, 'no buy']],) est: 0\n"
     ]
    },
    {
     "data": {
      "text/plain": [
       "'buy'"
      ]
     },
     "execution_count": 31,
     "metadata": {},
     "output_type": "execute_result"
    }
   ],
   "source": [
    "dataSet, labels = createDataSet()\n",
    "label_input = labels[:]\n",
    "tree = createTree(dataSet, label_input)\n",
    "\n",
    "#@decoratorlog\n",
    "def classify(inputTree, featLabels, testVec):\n",
    "    firstStr = list(inputTree.keys())[0]\n",
    "    secondDict = inputTree[firstStr]\n",
    "    featIndex = featLabels.index(firstStr) \n",
    "    for key in secondDict.keys():\n",
    "        if testVec[featIndex] == key:\n",
    "            if type(secondDict[key]).__name__=='dict':\n",
    "                classLabel = classify(secondDict[key],featLabels,testVec)\n",
    "            else: classLabel = secondDict[key]\n",
    "    return classLabel\n",
    "classify(tree, labels, [1, 0])"
   ]
  }
 ],
 "metadata": {
  "kernelspec": {
   "display_name": "Python 3 (ipykernel)",
   "language": "python",
   "name": "python3"
  },
  "language_info": {
   "codemirror_mode": {
    "name": "ipython",
    "version": 3
   },
   "file_extension": ".py",
   "mimetype": "text/x-python",
   "name": "python",
   "nbconvert_exporter": "python",
   "pygments_lexer": "ipython3",
   "version": "3.12.8"
  }
 },
 "nbformat": 4,
 "nbformat_minor": 5
}
