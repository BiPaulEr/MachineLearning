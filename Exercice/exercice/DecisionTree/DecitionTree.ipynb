{
 "cells": [
  {
   "cell_type": "markdown",
   "id": "dee89317-cb52-4d36-ada1-7f08d3a060fb",
   "metadata": {},
   "source": [
    "**Decorator + Creation du Dataset**"
   ]
  },
  {
   "cell_type": "code",
   "execution_count": 3,
   "id": "b239a831-9e75-44fa-87a9-e2896c95928c",
   "metadata": {},
   "outputs": [],
   "source": [
    "#Demonstration\n",
    "import math\n",
    "    \n",
    "def decoratorlog(f):\n",
    "    def wrapper(*args):\n",
    "        result =  f(*args)\n",
    "        print(f\"{f.__name__} de {args} est: {result}\") \n",
    "        return result\n",
    "    return wrapper"
   ]
  },
  {
   "cell_type": "code",
   "execution_count": 24,
   "id": "3db1d929-1d6e-4da6-864a-e1344e0fbfe3",
   "metadata": {},
   "outputs": [
    {
     "name": "stdout",
     "output_type": "stream",
     "text": [
      "Dataset: [[0, 0, 'no buy'], [1, 1, 'buy'], [0, 1, 'buy'], [1, 1, 'buy'], [0, 0, 'no buy'], [1, 1, 'buy'], [1, 0, 'buy'], [0, 0, 'no buy'], [0, 0, 'no buy'], [1, 1, 'buy']]\n",
      "Labels: ['Age', 'Income']\n"
     ]
    }
   ],
   "source": [
    "def createDataSet(*args):\n",
    "    # A People with Age 0 -> young 1 -> old, Income low -> 0 high -> 1\n",
    "    dataSet = [[0, 0, 'no buy'],  # young, low income\n",
    "               [1, 1, 'buy'],    # old, high income\n",
    "               [0, 1, 'buy'],    # young, high income\n",
    "               [1, 1, 'buy'],    # old, high income\n",
    "               [0, 0, 'no buy'], # young, low income\n",
    "               [1, 1, 'buy'],    # old, high income\n",
    "               [1, 0, 'buy'], # old, low income\n",
    "               [0, 0, 'no buy'], # young, low income\n",
    "               [0, 0, 'no buy'], # young, low income\n",
    "               [1, 1, 'buy']]    # old, high income\n",
    "    \n",
    "    # Labels represent the feature names for Age and Income\n",
    "    labels = ['Age', 'Income']\n",
    "    \n",
    "    return dataSet, labels\n",
    "\n",
    "dataSet, labels = createDataSet()\n",
    "\n",
    "# Output the new dataset\n",
    "print(\"Dataset:\", dataSet)\n",
    "print(\"Labels:\", labels)\n"
   ]
  },
  {
   "cell_type": "markdown",
   "id": "f73b289b-6a26-41e5-9efb-dfe46d560460",
   "metadata": {},
   "source": [
    "**Calcul de l'entropie de Shannon**"
   ]
  },
  {
   "cell_type": "code",
   "execution_count": 25,
   "id": "d65c8fe7-8efd-4696-a5ac-bf28592f0e46",
   "metadata": {},
   "outputs": [
    {
     "data": {
      "text/plain": [
       "0.9709505944546686"
      ]
     },
     "execution_count": 25,
     "metadata": {},
     "output_type": "execute_result"
    }
   ],
   "source": [
    "from math import log\n",
    "#@decoratorlog\n",
    "def calcShannonEnt(dataSet):\n",
    "     numEntries = len(dataSet)\n",
    "     labelCounts = {}\n",
    "     for featVec in dataSet: \n",
    "         currentLabel = featVec[-1] \n",
    "         if currentLabel not in labelCounts.keys():\n",
    "             labelCounts[currentLabel] = 0 \n",
    "         labelCounts[currentLabel] += 1 \n",
    "     shannonEnt = 0.0\n",
    "     for key in labelCounts:\n",
    "         prob = ***********************\n",
    "         shannonEnt ********** **************\n",
    "     return shannonEnt\n",
    "    \n",
    "calcShannonEnt(dataSet)"
   ]
  },
  {
   "cell_type": "markdown",
   "id": "489bbee7-ce56-4602-94f7-c74db9f8a185",
   "metadata": {},
   "source": [
    "**Split Dataset by a feature**"
   ]
  },
  {
   "cell_type": "code",
   "execution_count": 26,
   "id": "1a400722-3894-495e-8f90-94f8d5b3574e",
   "metadata": {},
   "outputs": [
    {
     "data": {
      "text/plain": [
       "[[1, 'buy'], [0, 'buy'], [1, 'buy'], [1, 'buy'], [1, 'buy']]"
      ]
     },
     "execution_count": 26,
     "metadata": {},
     "output_type": "execute_result"
    }
   ],
   "source": [
    "#Splitting Dataset\n",
    "#@decoratorlog\n",
    "def splitDataSet(dataSet, axis, value):\n",
    "    retDataset =[]\n",
    "    for featVec in dataSet:\n",
    "        if featVec[axis] == value:\n",
    "            *************************\n",
    "            **************************\n",
    "            retDataset.append(reducedFeatVec)\n",
    "    return retDataset\n",
    "dataSet, labels = createDataSet()\n",
    "splitDataSet(dataSet, 0, 1)\n",
    "splitDataSet(dataSet, 0, 0)\n",
    "splitDataSet(dataSet, 1, 0)\n",
    "splitDataSet(dataSet, 1, 1)"
   ]
  },
  {
   "cell_type": "markdown",
   "id": "a5ab8c41-a093-4cb8-a321-3d67802a1885",
   "metadata": {},
   "source": [
    "**Choisir la meilleur feature pour separer le dataset**"
   ]
  },
  {
   "cell_type": "code",
   "execution_count": 27,
   "id": "bb8ad6fd-fb6b-4895-861a-6fd3102041cf",
   "metadata": {},
   "outputs": [
    {
     "name": "stdout",
     "output_type": "stream",
     "text": [
      "[0, 0, 'no buy']\n",
      "['Age', 'Income']\n",
      "chooseBestFeatureToSplit de ([[0, 0, 'no buy'], [1, 1, 'buy'], [0, 1, 'buy'], [1, 1, 'buy'], [0, 0, 'no buy'], [1, 1, 'buy'], [1, 0, 'buy'], [0, 0, 'no buy'], [0, 0, 'no buy'], [1, 1, 'buy']],) est: 0\n"
     ]
    },
    {
     "data": {
      "text/plain": [
       "0"
      ]
     },
     "execution_count": 27,
     "metadata": {},
     "output_type": "execute_result"
    }
   ],
   "source": [
    "dataSet, labels = createDataSet()\n",
    "print(dataSet[0])\n",
    "print(labels)\n",
    "@decoratorlog\n",
    "def chooseBestFeatureToSplit(dataSet):\n",
    "    numFeatures = len(dataSet[0]) - 1\n",
    "    baseEntropy = calcShannonEnt(dataSet)\n",
    "    bestInfoGain = 0.0\n",
    "    bestFeature = -1\n",
    "    for i in range(numFeatures):\n",
    "        featList = [example[i] for example in dataSet]\n",
    "        uniqueVals = set(featList) \n",
    "        newEntropy = 0.0\n",
    "        for value in uniqueVals:\n",
    "            subDataset = ***********************\n",
    "            prob = len(subDataset) / float(len(dataSet))\n",
    "            newEntropy ************************\n",
    "        infoGain = *********************\n",
    "        if (infoGain > bestInfoGain):\n",
    "            bestInfoGain = infoGain \n",
    "            bestFeature = i \n",
    "    return bestFeature \n",
    "\n",
    "chooseBestFeatureToSplit(dataSet)   \n",
    "    \n",
    "    "
   ]
  },
  {
   "cell_type": "markdown",
   "id": "0e31e30c-58cd-4413-a41a-d43f86e57908",
   "metadata": {},
   "source": [
    "**Obtenir la classe majoritaire**"
   ]
  },
  {
   "cell_type": "code",
   "execution_count": 28,
   "id": "f43a96d9-ce00-4b38-9f50-5ccccbfcbd9c",
   "metadata": {},
   "outputs": [
    {
     "data": {
      "text/plain": [
       "'no'"
      ]
     },
     "execution_count": 28,
     "metadata": {},
     "output_type": "execute_result"
    }
   ],
   "source": [
    "import operator\n",
    "#@decoratorlog\n",
    "def majorityCnt(classList):\n",
    "    classCount={}\n",
    "    for vote in classList:\n",
    "        if vote not in classCount.keys():\n",
    "            classCount[vote] = 0\n",
    "        classCount[vote] += 1\n",
    "    sortedClassCount = sorted(classCount.items(), key=operator.itemgetter(1), reverse=True)\n",
    "    return sortedClassCount[0][0]\n",
    "    \n",
    "majorityCnt(['yes', 'yes', 'no'])\n",
    "majorityCnt(['yes', 'yes', 'no','no','maybe'])\n",
    "majorityCnt(['yes', 'yes', 'no','no','no'])"
   ]
  },
  {
   "cell_type": "markdown",
   "id": "d6677fdf-30a5-48b9-8a22-43a69a63aa51",
   "metadata": {},
   "source": [
    "**Creation de larbre**"
   ]
  },
  {
   "cell_type": "code",
   "execution_count": 29,
   "id": "e132cba3-39bf-41a7-a5b0-5609b34c48d9",
   "metadata": {},
   "outputs": [
    {
     "name": "stdout",
     "output_type": "stream",
     "text": [
      "chooseBestFeatureToSplit de ([[0, 0, 'no buy'], [1, 1, 'buy'], [0, 1, 'buy'], [1, 1, 'buy'], [0, 0, 'no buy'], [1, 1, 'buy'], [1, 0, 'buy'], [0, 0, 'no buy'], [0, 0, 'no buy'], [1, 1, 'buy']],) est: 0\n",
      "chooseBestFeatureToSplit de ([[0, 'no buy'], [1, 'buy'], [0, 'no buy'], [0, 'no buy'], [0, 'no buy']],) est: 0\n"
     ]
    },
    {
     "data": {
      "text/plain": [
       "{'Age': {0: {'Income': {0: 'no buy', 1: 'buy'}}, 1: 'buy'}}"
      ]
     },
     "execution_count": 29,
     "metadata": {},
     "output_type": "execute_result"
    }
   ],
   "source": [
    "#@decoratorlog\n",
    "def createTree(dataSet, labels):\n",
    "     classList = [example[-1] for example in dataSet]\n",
    "     if classList.count(classList[0]) == len(classList):\n",
    "         return classList[0] \n",
    "     if len(dataSet[0]) == 1: \n",
    "         return *****************\n",
    "     bestFeat = chooseBestFeatureToSplit(dataSet)\n",
    "     bestFeatLabel = labels[bestFeat]\n",
    "     myTree = {bestFeatLabel:{}}\n",
    "     del(labels[bestFeat]) \n",
    "     featValues = [example[bestFeat] for example in dataSet] \n",
    "     uniqueVals = set(featValues) \n",
    "     for value in uniqueVals:\n",
    "         subLabels = labels[:] \n",
    "         myTree[bestFeatLabel][value] = *****************************\n",
    "     return myTree\n",
    "dataSet, labels = createDataSet()\n",
    "createTree(dataSet, labels)\n"
   ]
  },
  {
   "cell_type": "markdown",
   "id": "258f544f-d8e4-44ca-98e3-86f32438546e",
   "metadata": {},
   "source": [
    "**Forward Process to predict a class for feature with our tree**"
   ]
  },
  {
   "cell_type": "code",
   "execution_count": 31,
   "id": "fac5812e-2bab-44c9-9595-b92ad9949101",
   "metadata": {},
   "outputs": [
    {
     "name": "stdout",
     "output_type": "stream",
     "text": [
      "chooseBestFeatureToSplit de ([[0, 0, 'no buy'], [1, 1, 'buy'], [0, 1, 'buy'], [1, 1, 'buy'], [0, 0, 'no buy'], [1, 1, 'buy'], [1, 0, 'buy'], [0, 0, 'no buy'], [0, 0, 'no buy'], [1, 1, 'buy']],) est: 0\n",
      "chooseBestFeatureToSplit de ([[0, 'no buy'], [1, 'buy'], [0, 'no buy'], [0, 'no buy'], [0, 'no buy']],) est: 0\n"
     ]
    },
    {
     "data": {
      "text/plain": [
       "'buy'"
      ]
     },
     "execution_count": 31,
     "metadata": {},
     "output_type": "execute_result"
    }
   ],
   "source": [
    "dataSet, labels = createDataSet()\n",
    "label_input = labels[:]\n",
    "tree = createTree(dataSet, label_input)\n",
    "\n",
    "#@decoratorlog\n",
    "def classify(inputTree, featLabels, testVec):\n",
    "    firstStr = list(inputTree.keys())[0]\n",
    "    secondDict = inputTree[firstStr]\n",
    "    featIndex = *********************\n",
    "    for key in secondDict.keys():\n",
    "        if testVec[featIndex] == key:\n",
    "            if type(secondDict[key]).__name__=='dict':\n",
    "                classLabel = ******************\n",
    "            else: *******************\n",
    "    return classLabel\n",
    "classify(tree, labels, [1, 0])"
   ]
  },
  {
   "cell_type": "markdown",
   "id": "ed30c9da-f74c-4ea7-9a71-47db46aa13c3",
   "metadata": {},
   "source": [
    "**Affichage du l'abre \"dict\"**"
   ]
  },
  {
   "cell_type": "code",
   "execution_count": null,
   "id": "a2e4ec8a-08ed-43fe-9c41-279c08b75fb5",
   "metadata": {},
   "outputs": [],
   "source": [
    "import matplotlib.pyplot as plt\n",
    "\n",
    "# Définition des styles de boîtes\n",
    "decisionNode = dict(boxstyle=\"sawtooth\", fc=\"0.8\")\n",
    "leafNode = dict(boxstyle=\"round4\", fc=\"0.8\")\n",
    "arrow_args = dict(arrowstyle=\"<-\")\n",
    "\n",
    "# Dessiner une flèche avec texte entre deux boîtes\n",
    "def plotMidText(cntrPt, parentPt, txtString):\n",
    "    xMid = (parentPt[0] - cntrPt[0]) / 2.0 + cntrPt[0]\n",
    "    yMid = (parentPt[1] - cntrPt[1]) / 2.0 + cntrPt[1]\n",
    "    plt.text(xMid, yMid, txtString)\n",
    "\n",
    "# Dessiner un nœud (décision ou feuille)\n",
    "def plotNode(nodeTxt, centerPt, parentPt, nodeType):\n",
    "    plt.annotate(nodeTxt, xy=parentPt, xycoords='axes fraction',\n",
    "                 xytext=centerPt, textcoords='axes fraction',\n",
    "                 va=\"center\", ha=\"center\", bbox=nodeType, arrowprops=arrow_args)\n",
    "\n",
    "# Compter les feuilles\n",
    "def getNumLeafs(myTree):\n",
    "    numLeafs = 0\n",
    "    firstStr = list(myTree.keys())[0]\n",
    "    secondDict = myTree[firstStr]\n",
    "    for key in secondDict:\n",
    "        if isinstance(secondDict[key], dict):\n",
    "            numLeafs += getNumLeafs(secondDict[key])\n",
    "        else:\n",
    "            numLeafs += 1\n",
    "    return numLeafs\n",
    "\n",
    "# Calculer profondeur\n",
    "def getTreeDepth(myTree):\n",
    "    maxDepth = 0\n",
    "    firstStr = list(myTree.keys())[0]\n",
    "    secondDict = myTree[firstStr]\n",
    "    for key in secondDict:\n",
    "        if isinstance(secondDict[key], dict):\n",
    "            thisDepth = 1 + getTreeDepth(secondDict[key])\n",
    "        else:\n",
    "            thisDepth = 1\n",
    "        if thisDepth > maxDepth:\n",
    "            maxDepth = thisDepth\n",
    "    return maxDepth\n",
    "\n",
    "# Initialisation du tracé global\n",
    "def plotTree(myTree, parentPt, nodeTxt):\n",
    "    numLeafs = getNumLeafs(myTree)\n",
    "    depth = getTreeDepth(myTree)\n",
    "    firstStr = list(myTree.keys())[0]\n",
    "    cntrPt = (plotTree.xOff + (1.0 + float(numLeafs)) / 2.0 / plotTree.totalW,\n",
    "              plotTree.yOff)\n",
    "    plotMidText(cntrPt, parentPt, nodeTxt)\n",
    "    plotNode(firstStr, cntrPt, parentPt, decisionNode)\n",
    "    secondDict = myTree[firstStr]\n",
    "    plotTree.yOff = plotTree.yOff - 1.0 / plotTree.totalD\n",
    "    for key in secondDict:\n",
    "        if isinstance(secondDict[key], dict):\n",
    "            plotTree(secondDict[key], cntrPt, str(key))\n",
    "        else:\n",
    "            plotTree.xOff = plotTree.xOff + 1.0 / plotTree.totalW\n",
    "            plotNode(secondDict[key], (plotTree.xOff, plotTree.yOff),\n",
    "                     cntrPt, leafNode)\n",
    "            plotMidText((plotTree.xOff, plotTree.yOff), cntrPt, str(key))\n",
    "    plotTree.yOff = plotTree.yOff + 1.0 / plotTree.totalD\n",
    "\n",
    "# Fonction principale pour afficher un arbre\n",
    "def createPlot(inTree):\n",
    "    fig = plt.figure(1, facecolor='white')\n",
    "    fig.clf()\n",
    "    axprops = dict(xticks=[], yticks=[])\n",
    "    createPlot.ax1 = plt.subplot(111, frameon=False, **axprops)\n",
    "    plotTree.totalW = float(getNumLeafs(inTree))\n",
    "    plotTree.totalD = float(getTreeDepth(inTree))\n",
    "    plotTree.xOff = -0.5 / plotTree.totalW\n",
    "    plotTree.yOff = 1.0\n",
    "    plotTree(inTree, (0.5, 1.0), '')\n",
    "    plt.show()\n",
    "    \n",
    "createPlot(tree)"
   ]
  },
  {
   "cell_type": "markdown",
   "id": "5f226920-ec50-4336-8a3e-b286dd5d1079",
   "metadata": {},
   "source": [
    "**DecisionTreeClassifier usage**"
   ]
  },
  {
   "cell_type": "code",
   "execution_count": null,
   "id": "20bd7802-222f-4097-b5a6-20a1fdb447af",
   "metadata": {},
   "outputs": [],
   "source": [
    "from sklearn.tree import DecisionTreeClassifier\n",
    "from sklearn import tree\n",
    "\n",
    "# Original dataset\n",
    "dataSet, labels = createDataSet()\n",
    "\n",
    "# Split data into features (X) and target (y)\n",
    "X = ************************ # features\n",
    "y = ********************  # target labels\n",
    "\n",
    "# Train a decision tree classifier avec criterion='entropy'\n",
    "clf = *******************\n",
    "clf.fit(X, y)"
   ]
  },
  {
   "cell_type": "markdown",
   "id": "b223354c-3e56-43e1-9688-b127687217df",
   "metadata": {},
   "source": [
    "**Affichage de DecisionTreeClassifier**"
   ]
  },
  {
   "cell_type": "code",
   "execution_count": null,
   "id": "007812ae-e64a-4f5f-9805-83cd870d1177",
   "metadata": {},
   "outputs": [],
   "source": [
    "# Visualize the tree\n",
    "plt.figure(figsize=(25,25))\n",
    "tree.plot_tree(clf, feature_names=labels, class_names=clf.classes_, filled=True)\n",
    "plt.show()"
   ]
  },
  {
   "cell_type": "markdown",
   "id": "17cf8f27-da2a-46d5-8ec0-d0369fe141d8",
   "metadata": {},
   "source": [
    "**Prediction avec Decision Tree Classifier**"
   ]
  },
  {
   "cell_type": "code",
   "execution_count": null,
   "id": "5d414b08-c8ec-4d72-ae7d-6d2bb5a0e641",
   "metadata": {},
   "outputs": [],
   "source": [
    "#print predict for [1, 0], [0, 0] [0, 1] [1, 1]\n",
    "print(***********)\n",
    "print(***********)\n",
    "print(***********)\n",
    "print(***********)"
   ]
  },
  {
   "cell_type": "markdown",
   "id": "8031415b-c3ff-41aa-8522-4eb2fc142c99",
   "metadata": {},
   "source": [
    "**Sauvegarde et Loading DecisionTreeClassifier**"
   ]
  },
  {
   "cell_type": "code",
   "execution_count": null,
   "id": "4dde9136-39eb-44f1-8c24-a84f9ab3bc5a",
   "metadata": {},
   "outputs": [],
   "source": [
    "import pickle\n",
    "def storeTree(inputTree, filename):\n",
    "     fw = open(filename,'wb')\n",
    "     **********(inputTree, fw)\n",
    "     fw.close()\n",
    " \n",
    "def grabTree(filename):\n",
    "    fr = open(filename, 'rb')\n",
    "    tree = ***********\n",
    "    fr.close()\n",
    "    return tree"
   ]
  },
  {
   "cell_type": "code",
   "execution_count": null,
   "id": "8fb729cb-116b-4d75-bb06-f2b700caea13",
   "metadata": {},
   "outputs": [],
   "source": [
    "storeTree(clf, 'decision_tree_model.pkl')\n",
    "\n",
    "tree_clf_loaded = grabTree( 'decision_tree_model.pkl')\n",
    "\n",
    "print(tree_clf_loaded.predict([[1, 0]]))"
   ]
  }
 ],
 "metadata": {
  "kernelspec": {
   "display_name": "Python 3 (ipykernel)",
   "language": "python",
   "name": "python3"
  },
  "language_info": {
   "codemirror_mode": {
    "name": "ipython",
    "version": 3
   },
   "file_extension": ".py",
   "mimetype": "text/x-python",
   "name": "python",
   "nbconvert_exporter": "python",
   "pygments_lexer": "ipython3",
   "version": "3.12.10"
  }
 },
 "nbformat": 4,
 "nbformat_minor": 5
}
