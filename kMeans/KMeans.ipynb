{
 "cells": [
  {
   "cell_type": "code",
   "execution_count": 36,
   "id": "eadde405-4da1-436a-bcfa-b84ddcc57df9",
   "metadata": {},
   "outputs": [
    {
     "name": "stdout",
     "output_type": "stream",
     "text": [
      "[[1.658985, 4.285136], [-3.453687, 3.424321], [4.838138, -1.151539], [-5.379713, -3.362104], [0.972564, 2.924086], [-3.567919, 1.531611], [0.450614, -3.302219], [-3.487105, -1.724432], [2.668759, 1.594842], [-3.156485, 3.191137], [3.165506, -3.999838], [-2.786837, -3.099354], [4.208187, 2.984927], [-2.123337, 2.943366], [0.704199, -0.479481], [-0.39237, -3.963704], [2.831667, 1.574018], [-0.790153, 3.343144], [2.943496, -3.357075], [-3.195883, -2.283926], [2.336445, 2.875106], [-1.786345, 2.554248], [2.190101, -1.90602], [-3.403367, -2.778288], [1.778124, 3.880832], [-1.688346, 2.230267], [2.592976, -2.054368], [-4.007257, -3.207066], [2.257734, 3.387564], [-2.679011, 0.785119], [0.939512, -4.023563], [-3.674424, -2.261084], [2.046259, 2.735279], [-3.18947, 1.780269], [4.372646, -0.822248], [-2.579316, -3.497576], [1.889034, 5.1904], [-0.798747, 2.185588], [2.83652, -2.658556], [-3.837877, -3.253815], [2.096701, 3.886007], [-2.709034, 2.923887], [3.367037, -3.184789], [-2.121479, -4.232586], [2.329546, 3.179764], [-3.284816, 3.273099], [3.091414, -3.815232], [-3.762093, -2.432191], [3.542056, 2.778832], [-1.736822, 4.241041], [2.127073, -2.98368], [-4.323818, -3.938116], [3.792121, 5.135768], [-4.786473, 3.358547], [2.624081, -3.260715], [-4.009299, -2.978115], [2.493525, 1.96371], [-2.513661, 2.642162], [1.864375, -3.176309], [-3.171184, -3.572452], [2.89422, 2.489128], [-2.562539, 2.884438], [3.491078, -3.947487], [-2.565729, -2.012114], [3.332948, 3.983102], [-1.616805, 3.573188], [2.280615, -2.559444], [-2.651229, -3.103198], [2.321395, 3.154987], [-1.685703, 2.939697], [3.031012, -3.620252], [-4.599622, -2.185829], [4.196223, 1.126677], [-2.133863, 3.093686], [4.668892, -2.562705], [-2.793241, -2.149706], [2.884105, 3.043438], [-2.967647, 2.848696], [4.479332, -1.764772], [-4.905566, -2.91107]]\n"
     ]
    }
   ],
   "source": [
    "from numpy import *\n",
    "def loadDataSet(fileName):\n",
    "    dataMat = []\n",
    "    fr = open(fileName)\n",
    "    for line in fr.readlines():\n",
    "        curLine = line.strip().split('\\t')\n",
    "        fltLine = list(map(float, curLine))\n",
    "        dataMat.append(fltLine)\n",
    "    return dataMat\n",
    "    \n",
    "dataMat = loadDataSet(\"testSet.txt\")\n",
    "\n",
    "print(dataMat)"
   ]
  },
  {
   "cell_type": "code",
   "execution_count": 61,
   "id": "fd4748fe-4a3f-4136-a782-02810712e8b1",
   "metadata": {},
   "outputs": [
    {
     "data": {
      "image/png": "[encoded data removed]",
      "text/plain": [
       "<Figure size 640x480 with 1 Axes>"
      ]
     },
     "metadata": {},
     "output_type": "display_data"
    },
    {
     "data": {
      "text/plain": [
       "<module 'matplotlib.pyplot' from 'C:\\\\Users\\\\PaulE\\\\Documents\\\\MachineLearningCourse\\\\localenv\\\\Lib\\\\site-packages\\\\matplotlib\\\\pyplot.py'>"
      ]
     },
     "execution_count": 61,
     "metadata": {},
     "output_type": "execute_result"
    }
   ],
   "source": [
    "import matplotlib.pyplot as plt\n",
    "def plot(data):\n",
    "    data = array(data)\n",
    "    x = data[:, 0].flatten().tolist()\n",
    "    y = data[:, 1].flatten().tolist()\n",
    "    plt.scatter(x, y, c='blue', marker='o')\n",
    "    plt.xlabel('X')\n",
    "    plt.ylabel('Y')\n",
    "    plt.title('Scatter plot of testSet.txt data')\n",
    "    plt.grid(True)\n",
    "    plt.show()\n",
    "plot(dataMat)"
   ]
  },
  {
   "cell_type": "code",
   "execution_count": 62,
   "id": "736f512b-88d3-4aa9-923a-f8eccffe384b",
   "metadata": {},
   "outputs": [
    {
     "name": "stdout",
     "output_type": "stream",
     "text": [
      "[1.658985, 4.285136] [-3.453687, 3.424321]\n",
      "5.184632816681332\n"
     ]
    }
   ],
   "source": [
    "def distEclud(vecA, vecB):\n",
    "    return sqrt(sum(power(vecA - vecB, 2)))\n",
    "print(dataMat[0], dataMat[1])\n",
    "print(distEclud(array(dataMat[0]), array(dataMat[1])))"
   ]
  },
  {
   "cell_type": "code",
   "execution_count": 63,
   "id": "ac40c854-2ec3-4df8-9333-14b334b18e88",
   "metadata": {},
   "outputs": [
    {
     "name": "stdout",
     "output_type": "stream",
     "text": [
      "[[ 0.71184111 -2.11587064]\n",
      " [-0.74702881 -2.46595913]\n",
      " [-1.37761995  4.6221808 ]\n",
      " [-3.06793772 -3.31664007]]\n"
     ]
    }
   ],
   "source": [
    "def randCent(dataSet, k):\n",
    "    n = shape(dataSet)[1] #number columns\n",
    "    centroids = mat(zeros((k,n)))\n",
    "    for j in range(n):\n",
    "        minJ = min(dataSet[:,j])\n",
    "        rangeJ = float(max(dataSet[:,j]) - minJ)\n",
    "        centroids[:,j] = minJ + rangeJ * random.rand(k,1)\n",
    "    return centroids\n",
    "centroids = randCent(array(dataMat), 4)\n",
    "print(centroids)"
   ]
  },
  {
   "cell_type": "code",
   "execution_count": 77,
   "id": "2f1ad107-87cf-4b91-918c-a44227ba3df0",
   "metadata": {},
   "outputs": [
    {
     "name": "stdout",
     "output_type": "stream",
     "text": [
      "[[ 2.6265299   3.10868015]\n",
      " [-3.53973889 -2.89384326]\n",
      " [ 2.65077367 -2.79019029]\n",
      " [-2.46154315  2.78737555]]\n",
      "[[ 0.          2.3201915 ]\n",
      " [ 3.          1.39004893]\n",
      " [ 2.          7.46974076]\n",
      " [ 1.          3.60477283]\n",
      " [ 0.          2.7696782 ]\n",
      " [ 3.          2.80101213]\n",
      " [ 2.          5.10287596]\n",
      " [ 1.          1.37029303]\n",
      " [ 0.          2.29348924]\n",
      " [ 3.          0.64596748]\n",
      " [ 2.          1.72819697]\n",
      " [ 1.          0.60909593]\n",
      " [ 0.          2.51695402]\n",
      " [ 3.          0.13871642]\n",
      " [ 2.          9.12853034]\n",
      " [ 2.         10.63785781]\n",
      " [ 0.          2.39726914]\n",
      " [ 3.          3.1024236 ]\n",
      " [ 2.          0.40704464]\n",
      " [ 1.          0.49023594]\n",
      " [ 0.          0.13870613]\n",
      " [ 3.          0.510241  ]\n",
      " [ 2.          0.9939764 ]\n",
      " [ 1.          0.03195031]\n",
      " [ 0.          1.31601105]\n",
      " [ 3.          0.90820377]\n",
      " [ 2.          0.54477501]\n",
      " [ 1.          0.31668166]\n",
      " [ 0.          0.21378662]\n",
      " [ 3.          4.05632356]\n",
      " [ 2.          4.44962474]\n",
      " [ 1.          0.41852436]\n",
      " [ 0.          0.47614274]\n",
      " [ 3.          1.5441411 ]\n",
      " [ 2.          6.83764117]\n",
      " [ 1.          1.28690535]\n",
      " [ 0.          4.87745774]\n",
      " [ 3.          3.12703929]\n",
      " [ 2.          0.05182929]\n",
      " [ 1.          0.21846598]\n",
      " [ 0.          0.8849557 ]\n",
      " [ 3.          0.0798871 ]\n",
      " [ 2.          0.66874131]\n",
      " [ 1.          3.80369324]\n",
      " [ 0.          0.09325235]\n",
      " [ 3.          0.91370546]\n",
      " [ 2.          1.24487442]\n",
      " [ 1.          0.26256416]\n",
      " [ 0.          0.94698784]\n",
      " [ 3.          2.63836399]\n",
      " [ 2.          0.31170066]\n",
      " [ 1.          1.70528559]\n",
      " [ 0.          5.46768776]\n",
      " [ 3.          5.73153563]\n",
      " [ 2.          0.22210601]\n",
      " [ 1.          0.22758842]\n",
      " [ 0.          1.32864695]\n",
      " [ 3.          0.02380325]\n",
      " [ 2.          0.76751052]\n",
      " [ 1.          0.59634253]\n",
      " [ 0.          0.45550286]\n",
      " [ 3.          0.01962128]\n",
      " [ 2.          2.04544706]\n",
      " [ 1.          1.72614177]\n",
      " [ 0.          1.2636401 ]\n",
      " [ 3.          1.33108375]\n",
      " [ 2.          0.19026129]\n",
      " [ 1.          0.83327924]\n",
      " [ 0.          0.09525163]\n",
      " [ 3.          0.62512976]\n",
      " [ 2.          0.83358364]\n",
      " [ 1.          1.62463639]\n",
      " [ 0.          6.39227291]\n",
      " [ 3.          0.20120037]\n",
      " [ 2.          4.12455116]\n",
      " [ 1.          1.11099937]\n",
      " [ 0.          0.07060147]\n",
      " [ 3.          0.2599013 ]\n",
      " [ 2.          4.39510824]\n",
      " [ 1.          1.86578044]]\n"
     ]
    }
   ],
   "source": [
    "def kMeans(dataSet, k, distMeas=distEclud, createCent=randCent):\n",
    "    m = shape(dataSet)[0]\n",
    "    clusterAssment = mat(zeros((m,2)))\n",
    "    centroids = createCent(dataSet, k)\n",
    "    clusterChanged = True\n",
    "    while clusterChanged:\n",
    "        clusterChanged = False\n",
    "        for i in range(m):\n",
    "            minDist = inf; minIndex = -1\n",
    "            for j in range(k):\n",
    "                distJI = distMeas(centroids[j,:],dataSet[i,:])\n",
    "                if distJI < minDist:\n",
    "                    minDist = distJI; minIndex = j\n",
    "            if clusterAssment[i,0] != minIndex: clusterChanged = True\n",
    "            clusterAssment[i,:] = minIndex,minDist**2\n",
    "        #print(centroids)\n",
    "        for cent in range(k):\n",
    "            ptsInClust = dataSet[nonzero(clusterAssment[:,0].A==cent)[0]]\n",
    "            centroids[cent,:] = mean(ptsInClust, axis=0)\n",
    "    return centroids, clusterAssment\n",
    "\n",
    "centroids, clusterAssment = kMeans(array(dataMat), 4)\n",
    "print(centroids)\n",
    "print(clusterAssment)"
   ]
  },
  {
   "cell_type": "code",
   "execution_count": 83,
   "id": "04f18008-27a2-4b2d-9d41-d2877822268e",
   "metadata": {},
   "outputs": [
    {
     "name": "stdout",
     "output_type": "stream",
     "text": [
      "[0.0]\n",
      "[[2.6265299  3.10868015]]\n",
      "[[-3.53973889 -2.89384326]]\n",
      "[[ 2.65077367 -2.79019029]]\n",
      "[[-2.46154315  2.78737555]]\n"
     ]
    },
    {
     "data": {
      "image/png": "[encoded data removed]",
      "text/plain": [
       "<Figure size 640x480 with 1 Axes>"
      ]
     },
     "metadata": {},
     "output_type": "display_data"
    }
   ],
   "source": [
    "x = array(dataMat)[:, 0].flatten().tolist()\n",
    "y = array(dataMat)[:, 1].flatten().tolist()\n",
    "colors = {0 :\"red\", 1 : \"blue\", 2 : \"green\", 3 : \"purple\"}\n",
    "#colors_points = list(map(lambda x : colors[int(x[0])], clusterAssment))\n",
    "colors_points = list(map(lambda x : x[0], clusterAssment.flatten().tolist()))\n",
    "print(colors_points)\n",
    "plt.scatter(x, y, c='blue', marker='o')\n",
    "\n",
    "for index, cen in enumerate(centroids):\n",
    "    print(cen)\n",
    "    plt.scatter(cen[0,0], cen[0, 1], c=colors[index], marker='+')\n",
    "    \n",
    "plt.xlabel('X')\n",
    "plt.ylabel('Y')\n",
    "plt.title('Scatter plot of testSet.txt data')\n",
    "plt.grid(True)\n",
    "plt.show()\n"
   ]
  },
  {
   "cell_type": "code",
   "execution_count": null,
   "id": "72a74574-7898-498d-b2ad-f2c91acf37bd",
   "metadata": {},
   "outputs": [],
   "source": []
  },
  {
   "cell_type": "code",
   "execution_count": null,
   "id": "dbb23557-aa94-4b9d-9019-685172a36543",
   "metadata": {},
   "outputs": [],
   "source": []
  },
  {
   "cell_type": "code",
   "execution_count": null,
   "id": "d8cd6740-f16c-4d61-8bfe-4e88b433d934",
   "metadata": {},
   "outputs": [],
   "source": []
  },
  {
   "cell_type": "code",
   "execution_count": null,
   "id": "c6be26b2-f55e-4406-aab6-7639507a1d5d",
   "metadata": {},
   "outputs": [],
   "source": []
  },
  {
   "cell_type": "code",
   "execution_count": null,
   "id": "8626b30d-3e79-42c5-b7c6-687790dfe968",
   "metadata": {},
   "outputs": [],
   "source": []
  },
  {
   "cell_type": "code",
   "execution_count": null,
   "id": "dec65848-7557-468c-bb3e-f61499500ffb",
   "metadata": {},
   "outputs": [],
   "source": []
  },
  {
   "cell_type": "code",
   "execution_count": null,
   "id": "4c0ce1ad-f0c2-4b5d-b4d6-56c5ff73362b",
   "metadata": {},
   "outputs": [],
   "source": []
  }
 ],
 "metadata": {
  "kernelspec": {
   "display_name": "Python 3 (ipykernel)",
   "language": "python",
   "name": "python3"
  },
  "language_info": {
   "codemirror_mode": {
    "name": "ipython",
    "version": 3
   },
   "file_extension": ".py",
   "mimetype": "text/x-python",
   "name": "python",
   "nbconvert_exporter": "python",
   "pygments_lexer": "ipython3",
   "version": "3.12.8"
  }
 },
 "nbformat": 4,
 "nbformat_minor": 5
}
