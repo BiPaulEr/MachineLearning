{
 "cells": [
  {
   "cell_type": "code",
   "execution_count": 1,
   "id": "a16676fd-f31f-4a04-aca2-8bbbfd814422",
   "metadata": {},
   "outputs": [
    {
     "name": "stdout",
     "output_type": "stream",
     "text": [
      "[['my', 'dog', 'has', 'flea', 'problems', 'help', 'please'], ['maybe', 'not', 'take', 'him', 'to', 'dog', 'park', 'stupid'], ['my', 'dalmation', 'is', 'so', 'cute', 'I', 'love', 'him'], ['stop', 'posting', 'stupid', 'worthless', 'garbage'], ['mr', 'licks', 'ate', 'my', 'steak', 'how', 'to', 'stop', 'him'], ['quit', 'buying', 'worthless', 'dog', 'food', 'stupid']]\n",
      "[0, 1, 0, 1, 0, 1]\n"
     ]
    }
   ],
   "source": [
    "from numpy import *\n",
    "\n",
    "def loadDataSet():\n",
    "    postingList=[['my', 'dog', 'has', 'flea', 'problems', 'help', 'please'],\n",
    "                 ['maybe', 'not', 'take', 'him', 'to', 'dog', 'park', 'stupid'],\n",
    "                 ['my', 'dalmation', 'is', 'so', 'cute', 'I', 'love', 'him'],\n",
    "                 ['stop', 'posting', 'stupid', 'worthless', 'garbage'],\n",
    "                 ['mr', 'licks', 'ate', 'my', 'steak', 'how', 'to', 'stop', 'him'],\n",
    "                 ['quit', 'buying', 'worthless', 'dog', 'food', 'stupid']]\n",
    "    classVec = [0,1,0,1,0,1]    #1 is abusive, 0 not\n",
    "    return postingList,classVec\n",
    "    \n",
    "postlist, classVec = loadDataSet()  \n",
    "print(postlist)\n",
    "print(classVec)"
   ]
  },
  {
   "cell_type": "code",
   "execution_count": 4,
   "id": "f3c1e8a2-36ba-4c63-8c6f-9064796ab458",
   "metadata": {},
   "outputs": [
    {
     "name": "stdout",
     "output_type": "stream",
     "text": [
      "['love', 'take', 'worthless', 'steak', 'food', 'not', 'him', 'to', 'garbage', 'stupid', 'posting', 'quit', 'my', 'has', 'stop', 'is', 'help', 'please', 'mr', 'how', 'so', 'dog', 'buying', 'licks', 'park', 'cute', 'flea', 'maybe', 'dalmation', 'problems', 'ate', 'I']\n"
     ]
    }
   ],
   "source": [
    "def createVocabList(dataSet):\n",
    "    vocabSet = set([])  #create empty set\n",
    "    for document in dataSet:\n",
    "        vocabSet = vocabSet | set(document) #union of the two sets\n",
    "    return list(vocabSet)\n",
    "vocabList = createVocabList(postlist)\n",
    "print(vocabList)\n"
   ]
  },
  {
   "cell_type": "code",
   "execution_count": 9,
   "id": "9d0e0c66-d08e-4961-853c-3378518e8dd3",
   "metadata": {},
   "outputs": [
    {
     "name": "stdout",
     "output_type": "stream",
     "text": [
      "[0, 0, 0, 0, 0, 0, 0, 0, 0, 0, 0, 0, 1, 1, 0, 0, 1, 1, 0, 0, 0, 1, 0, 0, 0, 0, 1, 0, 0, 1, 0, 0]\n"
     ]
    }
   ],
   "source": [
    "def setOfWords2Vec(vocabList, inputSet):\n",
    "    returnVec = [0]*len(vocabList)\n",
    "    for word in inputSet:\n",
    "        if word in vocabList:\n",
    "            returnVec[vocabList.index(word)] = 1\n",
    "        else: print(f\"the word: {word} is not in my Vocabulary!\")\n",
    "    return returnVec\n",
    "print(setOfWords2Vec(vocabList, postlist[0][:]))"
   ]
  },
  {
   "cell_type": "code",
   "execution_count": 17,
   "id": "c6884a7f-de32-4bce-833b-eb8054b2d311",
   "metadata": {},
   "outputs": [
    {
     "name": "stdout",
     "output_type": "stream",
     "text": [
      "[[0, 0, 0, 0, 0, 0, 0, 0, 0, 0, 0, 0, 1, 1, 0, 0, 1, 1, 0, 0, 0, 1, 0, 0, 0, 0, 1, 0, 0, 1, 0, 0], [0, 1, 0, 0, 0, 1, 1, 1, 0, 1, 0, 0, 0, 0, 0, 0, 0, 0, 0, 0, 0, 1, 0, 0, 1, 0, 0, 1, 0, 0, 0, 0], [1, 0, 0, 0, 0, 0, 1, 0, 0, 0, 0, 0, 1, 0, 0, 1, 0, 0, 0, 0, 1, 0, 0, 0, 0, 1, 0, 0, 1, 0, 0, 1], [0, 0, 1, 0, 0, 0, 0, 0, 1, 1, 1, 0, 0, 0, 1, 0, 0, 0, 0, 0, 0, 0, 0, 0, 0, 0, 0, 0, 0, 0, 0, 0], [0, 0, 0, 1, 0, 0, 1, 1, 0, 0, 0, 0, 1, 0, 1, 0, 0, 0, 1, 1, 0, 0, 0, 1, 0, 0, 0, 0, 0, 0, 1, 0], [0, 0, 1, 0, 1, 0, 0, 0, 0, 1, 0, 1, 0, 0, 0, 0, 0, 0, 0, 0, 0, 1, 1, 0, 0, 0, 0, 0, 0, 0, 0, 0]]\n",
      "p0Vect [-2.56494936 -3.25809654 -3.25809654 -2.56494936 -3.25809654 -3.25809654\n",
      " -2.15948425 -2.56494936 -3.25809654 -3.25809654 -3.25809654 -3.25809654\n",
      " -1.87180218 -2.56494936 -2.56494936 -2.56494936 -2.56494936 -2.56494936\n",
      " -2.56494936 -2.56494936 -2.56494936 -2.56494936 -3.25809654 -2.56494936\n",
      " -3.25809654 -2.56494936 -2.56494936 -3.25809654 -2.56494936 -2.56494936\n",
      " -2.56494936 -2.56494936]\n",
      "p1Vect [-3.04452244 -2.35137526 -1.94591015 -3.04452244 -2.35137526 -2.35137526\n",
      " -2.35137526 -2.35137526 -2.35137526 -1.65822808 -2.35137526 -2.35137526\n",
      " -3.04452244 -3.04452244 -2.35137526 -3.04452244 -3.04452244 -3.04452244\n",
      " -3.04452244 -3.04452244 -3.04452244 -1.94591015 -2.35137526 -3.04452244\n",
      " -2.35137526 -3.04452244 -3.04452244 -2.35137526 -3.04452244 -3.04452244\n",
      " -3.04452244 -3.04452244]\n",
      "pAbusive 0.5\n"
     ]
    }
   ],
   "source": [
    "trainMat=[]\n",
    "for postinDoc in postlist:\n",
    "    trainMat.append(setOfWords2Vec(vocabList, postinDoc))\n",
    "print(trainMat)\n",
    "\n",
    "def trainNB0(trainMatrix, trainCategory):\n",
    "    numTrainDocs = len(trainMatrix)\n",
    "    numWords = len(trainMatrix[0])\n",
    "    pAbusive = sum(trainCategory)/float(numTrainDocs)\n",
    "    #p0Denom = 0.0; p1Denom = 0.0\n",
    "    #p0Num = zeros(numWords); p1Num = zeros(numWords)\n",
    "    p0Num = ones(numWords); p1Num = ones(numWords)      #change to ones() \n",
    "    p0Denom = 2.0; p1Denom = 2.0                        #change to 2.0\n",
    "    for i in range(numTrainDocs):\n",
    "        if trainCategory[i] == 1:\n",
    "            p1Num += trainMatrix[i]\n",
    "            p1Denom += sum(trainMatrix[i])\n",
    "        else:\n",
    "            p0Num += trainMatrix[i]\n",
    "            p0Denom += sum(trainMatrix[i])\n",
    "    #p1Vect = (p1Num/p1Denom)         #change to log()\n",
    "    #p0Vect = (p0Num/p0Denom)\n",
    "    p1Vect = log(p1Num/p1Denom)          #change to log()\n",
    "    p0Vect = log(p0Num/p0Denom)          #change to log()\n",
    "    return p0Vect,p1Vect,pAbusive\n",
    "    \n",
    "p0Vect, p1Vect, pAbusive = trainNB0(trainMat, classVec)\n",
    "print(f\"p0Vect {p0Vect}\")\n",
    "print(f\"p1Vect {p1Vect}\")\n",
    "print(f\"pAbusive {pAbusive}\")"
   ]
  },
  {
   "cell_type": "code",
   "execution_count": 20,
   "id": "352d1c36-54d2-4689-8157-7bbb3a5687a5",
   "metadata": {},
   "outputs": [
    {
     "name": "stdout",
     "output_type": "stream",
     "text": [
      "1\n"
     ]
    }
   ],
   "source": [
    "def classifyNB(vec2Classify, p0Vec, p1Vec, pClass1):\n",
    "    p1 = sum(vec2Classify * p1Vec) + log(pClass1) \n",
    "    p0 = sum(vec2Classify * p0Vec) + log(1.0 - pClass1)\n",
    "    if p1 > p0:\n",
    "        return 1\n",
    "    else: \n",
    "        return 0\n",
    "print(classifyNB(trainMat[1], p0Vect, p1Vect, pAbusive))"
   ]
  },
  {
   "cell_type": "code",
   "execution_count": 22,
   "id": "901e9238-a510-4e5f-bfe3-fe6c8f779424",
   "metadata": {},
   "outputs": [
    {
     "ename": "NameError",
     "evalue": "name 'listClasses' is not defined",
     "output_type": "error",
     "traceback": [
      "\u001b[1;31m---------------------------------------------------------------------------\u001b[0m",
      "\u001b[1;31mNameError\u001b[0m                                 Traceback (most recent call last)",
      "Cell \u001b[1;32mIn[22], line 14\u001b[0m\n\u001b[0;32m     12\u001b[0m     thisDoc \u001b[38;5;241m=\u001b[39m array(setOfWords2Vec(myVocabList, testEntry))\n\u001b[0;32m     13\u001b[0m     \u001b[38;5;28mprint\u001b[39m(\u001b[38;5;124mf\u001b[39m\u001b[38;5;124m\"\u001b[39m\u001b[38;5;132;01m{\u001b[39;00mtestEntry\u001b[38;5;132;01m}\u001b[39;00m\u001b[38;5;124m ,classified as:  \u001b[39m\u001b[38;5;132;01m{\u001b[39;00mclassifyNB(thisDoc,p0V,p1V,pAb)\u001b[38;5;132;01m}\u001b[39;00m\u001b[38;5;124m\"\u001b[39m)\n\u001b[1;32m---> 14\u001b[0m \u001b[43mtestingNB\u001b[49m\u001b[43m(\u001b[49m\u001b[43m)\u001b[49m\n",
      "Cell \u001b[1;32mIn[22], line 7\u001b[0m, in \u001b[0;36mtestingNB\u001b[1;34m()\u001b[0m\n\u001b[0;32m      5\u001b[0m \u001b[38;5;28;01mfor\u001b[39;00m postinDoc \u001b[38;5;129;01min\u001b[39;00m listOPosts:\n\u001b[0;32m      6\u001b[0m     trainMat\u001b[38;5;241m.\u001b[39mappend(setOfWords2Vec(myVocabList, postinDoc))\n\u001b[1;32m----> 7\u001b[0m p0V,p1V,pAb \u001b[38;5;241m=\u001b[39m trainNB0(array(trainMat),array(\u001b[43mlistClasses\u001b[49m))\n\u001b[0;32m      8\u001b[0m testEntry \u001b[38;5;241m=\u001b[39m [\u001b[38;5;124m'\u001b[39m\u001b[38;5;124mlove\u001b[39m\u001b[38;5;124m'\u001b[39m, \u001b[38;5;124m'\u001b[39m\u001b[38;5;124mmy\u001b[39m\u001b[38;5;124m'\u001b[39m, \u001b[38;5;124m'\u001b[39m\u001b[38;5;124mdalmation\u001b[39m\u001b[38;5;124m'\u001b[39m]\n\u001b[0;32m      9\u001b[0m thisDoc \u001b[38;5;241m=\u001b[39m array(setOfWords2Vec(myVocabList, testEntry))\n",
      "\u001b[1;31mNameError\u001b[0m: name 'listClasses' is not defined"
     ]
    }
   ],
   "source": [
    "def testingNB():\n",
    "    listOPosts, blistClasses = loadDataSet()\n",
    "    myVocabList = createVocabList(listOPosts)\n",
    "    trainMat=[]\n",
    "    for postinDoc in listOPosts:\n",
    "        trainMat.append(setOfWords2Vec(myVocabList, postinDoc))\n",
    "    p0V,p1V,pAb = trainNB0(array(trainMat),array(listClasses))\n",
    "    testEntry = ['love', 'my', 'dalmation']\n",
    "    thisDoc = array(setOfWords2Vec(myVocabList, testEntry))\n",
    "    print(f\"{testEntry} ,classified as:  {classifyNB(thisDoc,p0V,p1V,pAb)}\")\n",
    "    testEntry = ['stupid', 'garbage']\n",
    "    thisDoc = array(setOfWords2Vec(myVocabList, testEntry))\n",
    "    print(f\"{testEntry} ,classified as:  {classifyNB(thisDoc,p0V,p1V,pAb)}\")\n",
    "testingNB()"
   ]
  },
  {
   "cell_type": "code",
   "execution_count": null,
   "id": "45c2956a-56b9-47be-bf77-1f847512fef9",
   "metadata": {},
   "outputs": [],
   "source": []
  }
 ],
 "metadata": {
  "kernelspec": {
   "display_name": "Python 3 (ipykernel)",
   "language": "python",
   "name": "python3"
  },
  "language_info": {
   "codemirror_mode": {
    "name": "ipython",
    "version": 3
   },
   "file_extension": ".py",
   "mimetype": "text/x-python",
   "name": "python",
   "nbconvert_exporter": "python",
   "pygments_lexer": "ipython3",
   "version": "3.12.0"
  }
 },
 "nbformat": 4,
 "nbformat_minor": 5
}
