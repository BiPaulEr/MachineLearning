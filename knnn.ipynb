{
 "cells": [
  {
   "cell_type": "code",
   "execution_count": 5,
   "id": "e1d9acf9-13e1-48b1-bbfa-16a18a074b61",
   "metadata": {},
   "outputs": [],
   "source": [
    "from numpy import *\n",
    "import operator\n",
    "from os import listdir"
   ]
  },
  {
   "cell_type": "code",
   "execution_count": 6,
   "id": "b82b94bf-d70c-48fe-a347-ca5096eaf7a1",
   "metadata": {},
   "outputs": [
    {
     "name": "stdout",
     "output_type": "stream",
     "text": [
      "(array([[1. , 1.1],\n",
      "       [1. , 1. ],\n",
      "       [0. , 0. ],\n",
      "       [0. , 0.1]]), ['A', 'A', 'B', 'B'])\n"
     ]
    }
   ],
   "source": [
    "def createDataSet():\n",
    "    group = array([[1.0,1.1],[1.0,1.0],[0,0],[0,0.1]])\n",
    "    labels = ['A','A','B','B']\n",
    "    return group, labels\n",
    "print(createDataSet())"
   ]
  },
  {
   "cell_type": "code",
   "execution_count": 7,
   "id": "9d5fe29a-de66-4d33-8611-67b355dc740e",
   "metadata": {},
   "outputs": [
    {
     "name": "stdout",
     "output_type": "stream",
     "text": [
      "[[1.  1.1]\n",
      " [1.  1. ]\n",
      " [0.  0. ]\n",
      " [0.  0.1]]\n",
      "['A', 'A', 'B', 'B']\n"
     ]
    }
   ],
   "source": [
    "group,labels = createDataSet()\n",
    "print(group)\n",
    "print(labels)"
   ]
  },
  {
   "cell_type": "code",
   "execution_count": 8,
   "id": "3b5547b9-72e1-470c-a8e5-f3f4acb659f6",
   "metadata": {},
   "outputs": [
    {
     "name": "stdout",
     "output_type": "stream",
     "text": [
      "(4, 2)\n",
      "[[0 0]\n",
      " [0 0]\n",
      " [0 0]\n",
      " [0 0]]\n",
      "[[1.  1.1]\n",
      " [1.  1. ]\n",
      " [0.  0. ]\n",
      " [0.  0.1]]\n",
      "[[-1.  -1.1]\n",
      " [-1.  -1. ]\n",
      " [ 0.   0. ]\n",
      " [ 0.  -0.1]]\n",
      "carre\n",
      "[[1.   1.21]\n",
      " [1.   1.  ]\n",
      " [0.   0.  ]\n",
      " [0.   0.01]]\n",
      "distance\n",
      "[2.21 2.   0.   0.01]\n",
      "racine distance\n",
      "[1.48660687 1.41421356 0.         0.1       ]\n",
      "[2 3 1 0]\n",
      "[1.48660687 1.41421356 0.         0.1       ]\n"
     ]
    },
    {
     "data": {
      "text/plain": [
       "'B'"
      ]
     },
     "execution_count": 8,
     "metadata": {},
     "output_type": "execute_result"
    }
   ],
   "source": [
    "def classify0(inX, dataSet, labels, k):\n",
    "    print(dataSet.shape)\n",
    "    dataSetSize = dataSet.shape[0]\n",
    "    diffMat = tile(inX, (dataSetSize,1)) - dataSet\n",
    "    print(tile(inX, (dataSetSize,1)))\n",
    "    print(dataSet)\n",
    "    print(diffMat)\n",
    "    sqDiffMat = diffMat**2\n",
    "    print(\"carre\")\n",
    "    print(sqDiffMat)\n",
    "    sqDistances = sqDiffMat.sum(axis=1)\n",
    "    print(\"distance\")\n",
    "    print(sqDistances)\n",
    "    distances = sqDistances**0.5\n",
    "    print(\"racine distance\")\n",
    "    print(distances)\n",
    "    sortedDistIndicies = distances.argsort()     \n",
    "    print(sortedDistIndicies)\n",
    "    print(distances)\n",
    "    classCount={}          \n",
    "    for i in range(k):\n",
    "        voteIlabel = labels[sortedDistIndicies[i]]\n",
    "        classCount[voteIlabel] = classCount.get(voteIlabel,0) + 1\n",
    "    sortedClassCount = sorted(classCount.items(), key=operator.itemgetter(1), reverse=True)\n",
    "    return sortedClassCount[0][0]\n",
    "\n",
    "classify0([0,0], group, labels, 3)"
   ]
  },
  {
   "cell_type": "code",
   "execution_count": 13,
   "id": "b74b9e37-7824-4984-8be4-db0442af06fa",
   "metadata": {},
   "outputs": [
    {
     "name": "stdout",
     "output_type": "stream",
     "text": [
      "[[4.0920000e+04 8.3269760e+00 9.5395200e-01]\n",
      " [1.4488000e+04 7.1534690e+00 1.6739040e+00]\n",
      " [2.6052000e+04 1.4418710e+00 8.0512400e-01]\n",
      " [7.5136000e+04 1.3147394e+01 4.2896400e-01]\n",
      " [3.8344000e+04 1.6697880e+00 1.3429600e-01]]\n",
      "['largeDoses', 'smallDoses', 'didntLike', 'didntLike', 'didntLike']\n"
     ]
    }
   ],
   "source": [
    "def file2matrix(filename):\n",
    "    fr = open(filename)\n",
    "    numberOfLines = len(fr.readlines())         #get the number of lines in the file\n",
    "    returnMat = zeros((numberOfLines,3))        #prepare matrix to return\n",
    "    classLabelVector = []                       #prepare labels return   \n",
    "    fr = open(filename)\n",
    "    index = 0\n",
    "    for line in fr.readlines():\n",
    "        line = line.strip()\n",
    "        listFromLine = line.split('\\t')\n",
    "        returnMat[index,:] = listFromLine[0:3]\n",
    "        classLabelVector.append(listFromLine[-1])\n",
    "        index += 1\n",
    "    return returnMat,classLabelVector\n",
    "inputMat, classLabelVector = file2matrix(\"datingTestSet.txt\")\n",
    "print(inputMat[0 :5])\n",
    "print(classLabelVector[0 :5])"
   ]
  },
  {
   "cell_type": "code",
   "execution_count": null,
   "id": "55742ffe-9057-4c8e-a9be-768f8b525122",
   "metadata": {},
   "outputs": [],
   "source": []
  }
 ],
 "metadata": {
  "kernelspec": {
   "display_name": "Python 3 (ipykernel)",
   "language": "python",
   "name": "python3"
  },
  "language_info": {
   "codemirror_mode": {
    "name": "ipython",
    "version": 3
   },
   "file_extension": ".py",
   "mimetype": "text/x-python",
   "name": "python",
   "nbconvert_exporter": "python",
   "pygments_lexer": "ipython3",
   "version": "3.12.0"
  }
 },
 "nbformat": 4,
 "nbformat_minor": 5
}
