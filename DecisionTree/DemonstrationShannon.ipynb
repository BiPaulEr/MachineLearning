{
 "cells": [
  {
   "cell_type": "code",
   "execution_count": 6,
   "id": "b239a831-9e75-44fa-87a9-e2896c95928c",
   "metadata": {},
   "outputs": [
    {
     "name": "stdout",
     "output_type": "stream",
     "text": [
      "calculer_entropie de ([0.5, 0.5],) est: 1.0\n"
     ]
    }
   ],
   "source": [
    "#Demonstration\n",
    "import math\n",
    "    \n",
    "def decoratorlog(f):\n",
    "    def wrapper(*args):\n",
    "        result =  f(*args)\n",
    "        print(f\"{f.__name__} de {args} est: {result}\") \n",
    "        return result\n",
    "    return wrapper\n",
    "    \n",
    "@decoratorlog\n",
    "def calculer_entropie(probabilites):\n",
    "    entropie = 0\n",
    "    for p in probabilites:\n",
    "        if p > 0:\n",
    "            entropie -= p * math.log(p, 2)\n",
    "    return entropie\n",
    "\n",
    "# Exemple d'utilisation\n",
    "probabilites = [0.5, 0.5]  # Probabilités pour deux classes équilibrées\n",
    "entropie = calculer_entropie(probabilites)\n"
   ]
  },
  {
   "cell_type": "code",
   "execution_count": 7,
   "id": "1727acbc-bd6e-4874-a64d-135577224e07",
   "metadata": {},
   "outputs": [
    {
     "name": "stdout",
     "output_type": "stream",
     "text": [
      "calculer_entropie de ([0.3, 0.3, 0.3],) est: 1.5632690347495855\n"
     ]
    }
   ],
   "source": [
    "probabilites = [0.3, 0.3, 0.3]  # Probabilités pour deux classes équilibrées\n",
    "entropie = calculer_entropie(probabilites)"
   ]
  },
  {
   "cell_type": "code",
   "execution_count": 8,
   "id": "c1ea5f25-00b2-428a-a955-a130d42732cb",
   "metadata": {},
   "outputs": [
    {
     "name": "stdout",
     "output_type": "stream",
     "text": [
      "calculer_entropie de ([0.4, 0.2, 0.3],) est: 1.5142465351822791\n"
     ]
    }
   ],
   "source": [
    "probabilites = [0.4, 0.2, 0.3]  # Probabilités pour deux classes équilibrées\n",
    "entropie = calculer_entropie(probabilites)"
   ]
  },
  {
   "cell_type": "code",
   "execution_count": 9,
   "id": "8d308842-4c0a-4b9f-9d12-baa487b6c449",
   "metadata": {},
   "outputs": [
    {
     "name": "stdout",
     "output_type": "stream",
     "text": [
      "calculer_entropie de ([0.6, 0.2, 0.2],) est: 1.3709505944546687\n"
     ]
    }
   ],
   "source": [
    "probabilites = [0.6, 0.2, 0.2]  # Probabilités pour deux classes équilibrées\n",
    "entropie = calculer_entropie(probabilites)"
   ]
  },
  {
   "cell_type": "code",
   "execution_count": 10,
   "id": "28ca39e6-6d77-49df-9e45-3963bfe7e065",
   "metadata": {},
   "outputs": [
    {
     "name": "stdout",
     "output_type": "stream",
     "text": [
      "calculer_entropie de ([0.6, 0.1, 0.3],) est: 1.295461844238322\n"
     ]
    }
   ],
   "source": [
    "probabilites = [0.6, 0.1, 0.3]  # Probabilités pour deux classes équilibrées\n",
    "entropie = calculer_entropie(probabilites)"
   ]
  },
  {
   "cell_type": "code",
   "execution_count": 11,
   "id": "791e9792-fe39-49c7-aff6-ef048aa67614",
   "metadata": {},
   "outputs": [
    {
     "name": "stdout",
     "output_type": "stream",
     "text": [
      "calculer_entropie de ([0.333, 0.6666],) est: 0.9183053483987162\n",
      "calculer_entropie de ([1],) est: 0.0\n"
     ]
    },
    {
     "data": {
      "text/plain": [
       "0.9183053483987162"
      ]
     },
     "execution_count": 11,
     "metadata": {},
     "output_type": "execute_result"
    }
   ],
   "source": [
    "calculer_entropie([0.333, 0.6666]) + calculer_entropie([1])"
   ]
  },
  {
   "cell_type": "code",
   "execution_count": 7,
   "id": "a948515e-acff-40ee-a487-137b1bbc02b1",
   "metadata": {},
   "outputs": [
    {
     "data": {
      "text/plain": [
       "1.0"
      ]
     },
     "execution_count": 7,
     "metadata": {},
     "output_type": "execute_result"
    }
   ],
   "source": [
    "calculer_entropie([0.5, 0.5]) + calculer_entropie([1])"
   ]
  }
 ],
 "metadata": {
  "kernelspec": {
   "display_name": "Python 3 (ipykernel)",
   "language": "python",
   "name": "python3"
  },
  "language_info": {
   "codemirror_mode": {
    "name": "ipython",
    "version": 3
   },
   "file_extension": ".py",
   "mimetype": "text/x-python",
   "name": "python",
   "nbconvert_exporter": "python",
   "pygments_lexer": "ipython3",
   "version": "3.12.8"
  }
 },
 "nbformat": 4,
 "nbformat_minor": 5
}
