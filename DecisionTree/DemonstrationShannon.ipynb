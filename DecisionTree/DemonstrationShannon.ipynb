{
 "cells": [
  {
   "cell_type": "code",
   "execution_count": 51,
   "id": "b239a831-9e75-44fa-87a9-e2896c95928c",
   "metadata": {},
   "outputs": [
    {
     "name": "stdout",
     "output_type": "stream",
     "text": [
      "calculer_entropie de ([0.5, 0.5],) est: 1.0\n"
     ]
    }
   ],
   "source": [
    "#Demonstration\n",
    "import math\n",
    "    \n",
    "def decoratorlog(f):\n",
    "    def wrapper(*args):\n",
    "        result =  f(*args)\n",
    "        print(f\"{f.__name__} de {args} est: {result}\") \n",
    "        return result\n",
    "    return wrapper\n",
    "    \n",
    "@decoratorlog\n",
    "def calculer_entropie(probabilites):\n",
    "    entropie = 0\n",
    "    for p in probabilites:\n",
    "        if p > 0:\n",
    "            entropie -= p * math.log(p, 2)\n",
    "    return entropie\n",
    "\n",
    "# Exemple d'utilisation\n",
    "probabilites = [0.5, 0.5]  # Probabilités pour deux classes équilibrées\n",
    "entropie = calculer_entropie(probabilites)\n"
   ]
  },
  {
   "cell_type": "code",
   "execution_count": 52,
   "id": "1727acbc-bd6e-4874-a64d-135577224e07",
   "metadata": {},
   "outputs": [
    {
     "name": "stdout",
     "output_type": "stream",
     "text": [
      "calculer_entropie de ([0.3, 0.3, 0.3],) est: 1.5632690347495855\n"
     ]
    }
   ],
   "source": [
    "probabilites = [0.3, 0.3, 0.3]  # Probabilités pour deux classes équilibrées\n",
    "entropie = calculer_entropie(probabilites)"
   ]
  },
  {
   "cell_type": "code",
   "execution_count": 53,
   "id": "c1ea5f25-00b2-428a-a955-a130d42732cb",
   "metadata": {},
   "outputs": [
    {
     "name": "stdout",
     "output_type": "stream",
     "text": [
      "calculer_entropie de ([0.4, 0.2, 0.3],) est: 1.5142465351822791\n"
     ]
    }
   ],
   "source": [
    "probabilites = [0.4, 0.2, 0.3]  # Probabilités pour deux classes équilibrées\n",
    "entropie = calculer_entropie(probabilites)"
   ]
  },
  {
   "cell_type": "code",
   "execution_count": 54,
   "id": "8d308842-4c0a-4b9f-9d12-baa487b6c449",
   "metadata": {},
   "outputs": [
    {
     "name": "stdout",
     "output_type": "stream",
     "text": [
      "calculer_entropie de ([0.6, 0.2, 0.2],) est: 1.3709505944546687\n"
     ]
    }
   ],
   "source": [
    "probabilites = [0.6, 0.2, 0.2]  # Probabilités pour deux classes équilibrées\n",
    "entropie = calculer_entropie(probabilites)"
   ]
  },
  {
   "cell_type": "code",
   "execution_count": 55,
   "id": "28ca39e6-6d77-49df-9e45-3963bfe7e065",
   "metadata": {},
   "outputs": [
    {
     "name": "stdout",
     "output_type": "stream",
     "text": [
      "calculer_entropie de ([0.6, 0.1, 0.3],) est: 1.295461844238322\n"
     ]
    }
   ],
   "source": [
    "probabilites = [0.6, 0.1, 0.3]  # Probabilités pour deux classes équilibrées\n",
    "entropie = calculer_entropie(probabilites)"
   ]
  },
  {
   "cell_type": "code",
   "execution_count": 56,
   "id": "791e9792-fe39-49c7-aff6-ef048aa67614",
   "metadata": {},
   "outputs": [
    {
     "name": "stdout",
     "output_type": "stream",
     "text": [
      "calculer_entropie de ([0.333, 0.6666],) est: 0.9183053483987162\n",
      "calculer_entropie de ([1],) est: 0.0\n"
     ]
    },
    {
     "data": {
      "text/plain": [
       "0.9183053483987162"
      ]
     },
     "execution_count": 56,
     "metadata": {},
     "output_type": "execute_result"
    }
   ],
   "source": [
    "calculer_entropie([0.333, 0.6666]) + calculer_entropie([1])"
   ]
  },
  {
   "cell_type": "code",
   "execution_count": 57,
   "id": "a948515e-acff-40ee-a487-137b1bbc02b1",
   "metadata": {},
   "outputs": [
    {
     "name": "stdout",
     "output_type": "stream",
     "text": [
      "calculer_entropie de ([0.5, 0.5],) est: 1.0\n",
      "calculer_entropie de ([1],) est: 0.0\n"
     ]
    },
    {
     "data": {
      "text/plain": [
       "1.0"
      ]
     },
     "execution_count": 57,
     "metadata": {},
     "output_type": "execute_result"
    }
   ],
   "source": [
    "calculer_entropie([0.5, 0.5]) + calculer_entropie([1])"
   ]
  },
  {
   "cell_type": "code",
   "execution_count": 59,
   "id": "3db1d929-1d6e-4da6-864a-e1344e0fbfe3",
   "metadata": {},
   "outputs": [
    {
     "name": "stdout",
     "output_type": "stream",
     "text": [
      "createDataSet de () est: ([[1, 1, 'yes'], [1, 1, 'yes'], [1, 0, 'no'], [0, 1, 'no'], [0, 1, 'no']], ['no surfacing', 'flippers'])\n"
     ]
    }
   ],
   "source": [
    "@decoratorlog\n",
    "def createDataSet(*args):\n",
    "    dataSet = [[1, 1, 'yes'],\n",
    "         [1, 1, 'yes'],\n",
    "         [1, 0, 'no'],\n",
    "         [0, 1, 'no'],\n",
    "         [0, 1, 'no']]\n",
    "    labels = ['no surfacing','flippers']\n",
    "    return dataSet, labels\n",
    "dataSet, labels = createDataSet()"
   ]
  },
  {
   "cell_type": "code",
   "execution_count": 62,
   "id": "0f463d6b-223f-40d6-a62e-57ef77f83245",
   "metadata": {},
   "outputs": [
    {
     "name": "stdout",
     "output_type": "stream",
     "text": [
      "[[1, 1, 'yes'], [1, 1, 'yes'], [1, 0, 'no'], [0, 1, 'no'], [0, 1, 'no']]\n",
      "[1, 1, 'yes']\n",
      "yes\n"
     ]
    }
   ],
   "source": [
    "print(dataSet[:])\n",
    "print(dataSet[:][0])\n",
    "print(dataSet[:][0][2])"
   ]
  },
  {
   "cell_type": "code",
   "execution_count": 96,
   "id": "d65c8fe7-8efd-4696-a5ac-bf28592f0e46",
   "metadata": {},
   "outputs": [
    {
     "name": "stdout",
     "output_type": "stream",
     "text": [
      "calcShannonEnt de ([[1, 1, 'yes'], [1, 1, 'yes'], [1, 0, 'no'], [0, 1, 'no'], [0, 1, 'no']],) est: 0.9709505944546686\n",
      "calcShannonEnt de ([[1, 1, 'yes'], [1, 1, 'yes'], [1, 0, 'no'], [0, 1, 'no'], [0, 1, 'no'], [0, 1, 'yes']],) est: 1.0\n",
      "calcShannonEnt de ([[1, 1, 'yes'], [1, 1, 'yes'], [1, 0, 'no'], [0, 1, 'no'], [0, 1, 'no'], [0, 1, 'no']],) est: 0.9182958340544896\n",
      "calcShannonEnt de ([[1, 1, 'yes'], [1, 1, 'yes'], [1, 0, 'no'], [0, 1, 'no'], [0, 1, 'no'], [0, 1, 'no'], [0, 1, 'no']],) est: 0.863120568566631\n",
      "calcShannonEnt de ([[1, 1, 'yes'], [1, 1, 'yes'], [1, 0, 'no'], [0, 1, 'no'], [0, 1, 'no'], [0, 1, 'maybe']],) est: 1.4591479170272448\n"
     ]
    },
    {
     "data": {
      "text/plain": [
       "1.4591479170272448"
      ]
     },
     "execution_count": 96,
     "metadata": {},
     "output_type": "execute_result"
    }
   ],
   "source": [
    "from math import log\n",
    "@decoratorlog\n",
    "def calcShannonEnt(dataSet):\n",
    "     numEntries = len(dataSet)\n",
    "     labelCounts = {}\n",
    "     for featVec in dataSet: \n",
    "         currentLabel = featVec[-1] \n",
    "         if currentLabel not in labelCounts.keys():\n",
    "             labelCounts[currentLabel] = 0 \n",
    "         labelCounts[currentLabel] += 1 \n",
    "     shannonEnt = 0.0\n",
    "     for key in labelCounts:\n",
    "         prob = float(labelCounts[key])/numEntries\n",
    "         shannonEnt -= prob * log(prob,2) \n",
    "     return shannonEnt\n",
    "    \n",
    "calcShannonEnt(dataSet)\n",
    "calcShannonEnt([[1, 1, 'yes'], [1, 1, 'yes'], [1, 0, 'no'], [0, 1, 'no'], [0, 1, 'no'],[0, 1, 'yes']])\n",
    "calcShannonEnt([[1, 1, 'yes'], [1, 1, 'yes'], [1, 0, 'no'], [0, 1, 'no'], [0, 1, 'no'],[0, 1, 'no']])\n",
    "calcShannonEnt([[1, 1, 'yes'], [1, 1, 'yes'], [1, 0, 'no'], [0, 1, 'no'], [0, 1, 'no'],[0, 1, 'no'], [0, 1, 'no']])\n",
    "calcShannonEnt([[1, 1, 'yes'], [1, 1, 'yes'], [1, 0, 'no'], [0, 1, 'no'], [0, 1, 'no'],[0, 1, 'maybe']])\n"
   ]
  },
  {
   "cell_type": "code",
   "execution_count": 97,
   "id": "1a400722-3894-495e-8f90-94f8d5b3574e",
   "metadata": {},
   "outputs": [
    {
     "name": "stdout",
     "output_type": "stream",
     "text": [
      "createDataSet de () est: ([[1, 1, 'yes'], [1, 1, 'yes'], [1, 0, 'no'], [0, 1, 'no'], [0, 1, 'no']], ['no surfacing', 'flippers'])\n",
      "splitDataSet de ([[1, 1, 'yes'], [1, 1, 'yes'], [1, 0, 'no'], [0, 1, 'no'], [0, 1, 'no']], 0, 1) est: [[1, 'yes'], [1, 'yes'], [0, 'no']]\n",
      "splitDataSet de ([[1, 1, 'yes'], [1, 1, 'yes'], [1, 0, 'no'], [0, 1, 'no'], [0, 1, 'no']], 0, 0) est: [[1, 'no'], [1, 'no']]\n",
      "splitDataSet de ([[1, 1, 'yes'], [1, 1, 'yes'], [1, 0, 'no'], [0, 1, 'no'], [0, 1, 'no']], 1, 0) est: [[1, 'no']]\n",
      "splitDataSet de ([[1, 1, 'yes'], [1, 1, 'yes'], [1, 0, 'no'], [0, 1, 'no'], [0, 1, 'no']], 1, 1) est: [[1, 'yes'], [1, 'yes'], [0, 'no'], [0, 'no']]\n"
     ]
    },
    {
     "data": {
      "text/plain": [
       "[[1, 'yes'], [1, 'yes'], [0, 'no'], [0, 'no']]"
      ]
     },
     "execution_count": 97,
     "metadata": {},
     "output_type": "execute_result"
    }
   ],
   "source": [
    "#Splitting Dataset\n",
    "@decoratorlog\n",
    "def splitDataSet(dataSet, axis, value):\n",
    "    retDataset =[]\n",
    "    for featVec in dataSet:\n",
    "        if featVec[axis] == value:\n",
    "            reducedFeatVec = featVec[:axis]\n",
    "            reducedFeatVec.extend(featVec[axis+1:])\n",
    "            retDataset.append(reducedFeatVec)\n",
    "    return retDataset\n",
    "dataSet, labels = createDataSet()\n",
    "splitDataSet(dataSet, 0, 1)\n",
    "splitDataSet(dataSet, 0, 0)\n",
    "splitDataSet(dataSet, 1, 0)\n",
    "splitDataSet(dataSet, 1, 1)"
   ]
  },
  {
   "cell_type": "code",
   "execution_count": 98,
   "id": "bb8ad6fd-fb6b-4895-861a-6fd3102041cf",
   "metadata": {},
   "outputs": [
    {
     "name": "stdout",
     "output_type": "stream",
     "text": [
      "[1, 1, 'yes']\n",
      "createDataSet de () est: ([[1, 1, 'yes'], [1, 1, 'yes'], [1, 0, 'no'], [0, 1, 'no'], [0, 1, 'no']], ['no surfacing', 'flippers'])\n",
      "calcShannonEnt de ([[1, 1, 'yes'], [1, 1, 'yes'], [1, 0, 'no'], [0, 1, 'no'], [0, 1, 'no']],) est: 0.9709505944546686\n",
      "BaseEntropy 0.9709505944546686\n",
      "splitDataSet de ([[1, 1, 'yes'], [1, 1, 'yes'], [1, 0, 'no'], [0, 1, 'no'], [0, 1, 'no']], 0, 0) est: [[1, 'no'], [1, 'no']]\n",
      "calcShannonEnt de ([[1, 'no'], [1, 'no']],) est: 0.0\n",
      "splitDataSet de ([[1, 1, 'yes'], [1, 1, 'yes'], [1, 0, 'no'], [0, 1, 'no'], [0, 1, 'no']], 0, 1) est: [[1, 'yes'], [1, 'yes'], [0, 'no']]\n",
      "calcShannonEnt de ([[1, 'yes'], [1, 'yes'], [0, 'no']],) est: 0.9182958340544896\n",
      "NewEntropy 0.5509775004326937\n",
      "infoGain 0.4199730940219749\n",
      "splitDataSet de ([[1, 1, 'yes'], [1, 1, 'yes'], [1, 0, 'no'], [0, 1, 'no'], [0, 1, 'no']], 1, 0) est: [[1, 'no']]\n",
      "calcShannonEnt de ([[1, 'no']],) est: 0.0\n",
      "splitDataSet de ([[1, 1, 'yes'], [1, 1, 'yes'], [1, 0, 'no'], [0, 1, 'no'], [0, 1, 'no']], 1, 1) est: [[1, 'yes'], [1, 'yes'], [0, 'no'], [0, 'no']]\n",
      "calcShannonEnt de ([[1, 'yes'], [1, 'yes'], [0, 'no'], [0, 'no']],) est: 1.0\n",
      "NewEntropy 0.8\n",
      "infoGain 0.17095059445466854\n",
      "chooseBestFeatureToSplit de ([[1, 1, 'yes'], [1, 1, 'yes'], [1, 0, 'no'], [0, 1, 'no'], [0, 1, 'no']],) est: 0\n"
     ]
    },
    {
     "data": {
      "text/plain": [
       "0"
      ]
     },
     "execution_count": 98,
     "metadata": {},
     "output_type": "execute_result"
    }
   ],
   "source": [
    "print(dataSet[0])\n",
    "dataSet, labels = createDataSet()\n",
    "@decoratorlog\n",
    "def chooseBestFeatureToSplit(dataSet):\n",
    "    numFeatures = len(dataSet[0]) - 1\n",
    "    baseEntropy = calcShannonEnt(dataSet)\n",
    "    print(f\"BaseEntropy {baseEntropy}\")\n",
    "    bestInfoGain = 0.0\n",
    "    bestFeature = -1\n",
    "    for i in range(numFeatures):\n",
    "        featList = [example[i] for example in dataSet]\n",
    "        uniqueVals = set(featList) \n",
    "        newEntropy = 0.0\n",
    "        for value in uniqueVals:\n",
    "            subDataset = splitDataSet(dataSet, i, value)\n",
    "            prob = len(subDataset) / float(len(dataSet))\n",
    "            newEntropy += prob * calcShannonEnt(subDataset)\n",
    "        infoGain = baseEntropy - newEntropy \n",
    "        print(f\"NewEntropy {newEntropy}\")\n",
    "        print(f\"infoGain {infoGain}\")\n",
    "        if (infoGain > bestInfoGain):\n",
    "            bestInfoGain = infoGain \n",
    "            bestFeature = i \n",
    "    return bestFeature \n",
    "\n",
    "chooseBestFeatureToSplit(dataSet)   \n",
    "    \n",
    "    "
   ]
  },
  {
   "cell_type": "code",
   "execution_count": 106,
   "id": "f43a96d9-ce00-4b38-9f50-5ccccbfcbd9c",
   "metadata": {},
   "outputs": [
    {
     "name": "stdout",
     "output_type": "stream",
     "text": [
      "majorityCnt de (['yes', 'yes', 'no'],) est: yes\n",
      "majorityCnt de (['yes', 'yes', 'no', 'no', 'maybe'],) est: yes\n",
      "majorityCnt de (['yes', 'yes', 'no', 'no', 'no'],) est: no\n"
     ]
    },
    {
     "data": {
      "text/plain": [
       "'no'"
      ]
     },
     "execution_count": 106,
     "metadata": {},
     "output_type": "execute_result"
    }
   ],
   "source": [
    "import operator\n",
    "@decoratorlog\n",
    "def majorityCnt(classList):\n",
    "    classCount={}\n",
    "    for vote in classList:\n",
    "        if vote not in classCount.keys():\n",
    "            classCount[vote] = 0\n",
    "        classCount[vote] += 1\n",
    "    sortedClassCount = sorted(classCount.items(), key=operator.itemgetter(1), reverse=True)\n",
    "    return sortedClassCount[0][0]\n",
    "    \n",
    "majorityCnt(['yes', 'yes', 'no'])\n",
    "majorityCnt(['yes', 'yes', 'no','no','maybe'])\n",
    "majorityCnt(['yes', 'yes', 'no','no','no'])"
   ]
  },
  {
   "cell_type": "code",
   "execution_count": null,
   "id": "e132cba3-39bf-41a7-a5b0-5609b34c48d9",
   "metadata": {},
   "outputs": [],
   "source": [
    "@decoratorlog\n",
    "def createTree(dataSet,labels):\n",
    "     classList = [example[-1] for example in dataSet]\n",
    "     if classList.count(classList[0]) == len(classList):\n",
    "         return classList[0] \n",
    "     if len(dataSet[0]) == 1: \n",
    "         return majorityCnt(classList) \n",
    "     bestFeat = chooseBestFeatureToSplit(dataSet)\n",
    "     bestFeatLabel = labels[bestFeat]\n",
    "     myTree = {bestFeatLabel:{}}\n",
    "     del(labels[bestFeat]) \n",
    "     featValues = [example[bestFeat] for example in dataSet] \n",
    "     uniqueVals = set(featValues) \n",
    "     for value in uniqueVals:\n",
    "         subLabels = labels[:] \n",
    "         myTree[bestFeatLabel][value] = createTree(splitDataSet(dataSet, bestFeat, value),subLabels)\n",
    "     return myTree\n",
    "dataSet, labels = createDataSet()\n",
    "createTree'\n"
   ]
  }
 ],
 "metadata": {
  "kernelspec": {
   "display_name": "Python 3 (ipykernel)",
   "language": "python",
   "name": "python3"
  },
  "language_info": {
   "codemirror_mode": {
    "name": "ipython",
    "version": 3
   },
   "file_extension": ".py",
   "mimetype": "text/x-python",
   "name": "python",
   "nbconvert_exporter": "python",
   "pygments_lexer": "ipython3",
   "version": "3.12.0"
  }
 },
 "nbformat": 4,
 "nbformat_minor": 5
}
